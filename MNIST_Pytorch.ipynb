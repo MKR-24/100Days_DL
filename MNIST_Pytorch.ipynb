{
  "nbformat": 4,
  "nbformat_minor": 0,
  "metadata": {
    "colab": {
      "provenance": [],
      "authorship_tag": "ABX9TyMLwZ1IA5ZtaxEV6ex3Q/fd",
      "include_colab_link": true
    },
    "kernelspec": {
      "name": "python3",
      "display_name": "Python 3"
    },
    "language_info": {
      "name": "python"
    }
  },
  "cells": [
    {
      "cell_type": "markdown",
      "metadata": {
        "id": "view-in-github",
        "colab_type": "text"
      },
      "source": [
        "<a href=\"https://colab.research.google.com/github/MKR-24/100Days_DL/blob/main/MNIST_Pytorch.ipynb\" target=\"_parent\"><img src=\"https://colab.research.google.com/assets/colab-badge.svg\" alt=\"Open In Colab\"/></a>"
      ]
    },
    {
      "cell_type": "code",
      "execution_count": 2,
      "metadata": {
        "colab": {
          "base_uri": "https://localhost:8080/"
        },
        "id": "-iY9SIUSthRE",
        "outputId": "bc7b10cf-359f-454b-df91-08c88c66479b"
      },
      "outputs": [
        {
          "output_type": "stream",
          "name": "stdout",
          "text": [
            "Requirement already satisfied: torch in /usr/local/lib/python3.10/dist-packages (2.5.0+cu121)\n",
            "Requirement already satisfied: torchvision in /usr/local/lib/python3.10/dist-packages (0.20.0+cu121)\n",
            "Requirement already satisfied: filelock in /usr/local/lib/python3.10/dist-packages (from torch) (3.16.1)\n",
            "Requirement already satisfied: typing-extensions>=4.8.0 in /usr/local/lib/python3.10/dist-packages (from torch) (4.12.2)\n",
            "Requirement already satisfied: networkx in /usr/local/lib/python3.10/dist-packages (from torch) (3.4.2)\n",
            "Requirement already satisfied: jinja2 in /usr/local/lib/python3.10/dist-packages (from torch) (3.1.4)\n",
            "Requirement already satisfied: fsspec in /usr/local/lib/python3.10/dist-packages (from torch) (2024.6.1)\n",
            "Requirement already satisfied: sympy==1.13.1 in /usr/local/lib/python3.10/dist-packages (from torch) (1.13.1)\n",
            "Requirement already satisfied: mpmath<1.4,>=1.1.0 in /usr/local/lib/python3.10/dist-packages (from sympy==1.13.1->torch) (1.3.0)\n",
            "Requirement already satisfied: numpy in /usr/local/lib/python3.10/dist-packages (from torchvision) (1.26.4)\n",
            "Requirement already satisfied: pillow!=8.3.*,>=5.3.0 in /usr/local/lib/python3.10/dist-packages (from torchvision) (10.4.0)\n",
            "Requirement already satisfied: MarkupSafe>=2.0 in /usr/local/lib/python3.10/dist-packages (from jinja2->torch) (3.0.2)\n"
          ]
        }
      ],
      "source": [
        "!pip install torch torchvision"
      ]
    },
    {
      "cell_type": "code",
      "source": [
        "from torchvision import datasets\n",
        "from torchvision.transforms import ToTensor\n",
        "import matplotlib.pyplot as plt"
      ],
      "metadata": {
        "id": "t3uYb1N2uTzL"
      },
      "execution_count": 3,
      "outputs": []
    },
    {
      "cell_type": "code",
      "source": [
        "train_data=datasets.MNIST(root=\"data\",train=True,download=True,transform=ToTensor())\n",
        "test_data=datasets.MNIST(root=\"data\",train=False,download=True,transform=ToTensor())"
      ],
      "metadata": {
        "colab": {
          "base_uri": "https://localhost:8080/"
        },
        "id": "xIAVTE6rumLG",
        "outputId": "d4261904-79d1-4c4f-ed09-ce94ccdbc95f"
      },
      "execution_count": 4,
      "outputs": [
        {
          "output_type": "stream",
          "name": "stdout",
          "text": [
            "Downloading http://yann.lecun.com/exdb/mnist/train-images-idx3-ubyte.gz\n",
            "Failed to download (trying next):\n",
            "<urlopen error [SSL: CERTIFICATE_VERIFY_FAILED] certificate verify failed: certificate has expired (_ssl.c:1007)>\n",
            "\n",
            "Downloading https://ossci-datasets.s3.amazonaws.com/mnist/train-images-idx3-ubyte.gz\n",
            "Downloading https://ossci-datasets.s3.amazonaws.com/mnist/train-images-idx3-ubyte.gz to data/MNIST/raw/train-images-idx3-ubyte.gz\n"
          ]
        },
        {
          "output_type": "stream",
          "name": "stderr",
          "text": [
            "100%|██████████| 9.91M/9.91M [00:00<00:00, 16.1MB/s]\n"
          ]
        },
        {
          "output_type": "stream",
          "name": "stdout",
          "text": [
            "Extracting data/MNIST/raw/train-images-idx3-ubyte.gz to data/MNIST/raw\n",
            "\n",
            "Downloading http://yann.lecun.com/exdb/mnist/train-labels-idx1-ubyte.gz\n",
            "Failed to download (trying next):\n",
            "<urlopen error [SSL: CERTIFICATE_VERIFY_FAILED] certificate verify failed: certificate has expired (_ssl.c:1007)>\n",
            "\n",
            "Downloading https://ossci-datasets.s3.amazonaws.com/mnist/train-labels-idx1-ubyte.gz\n",
            "Downloading https://ossci-datasets.s3.amazonaws.com/mnist/train-labels-idx1-ubyte.gz to data/MNIST/raw/train-labels-idx1-ubyte.gz\n"
          ]
        },
        {
          "output_type": "stream",
          "name": "stderr",
          "text": [
            "100%|██████████| 28.9k/28.9k [00:00<00:00, 497kB/s]\n"
          ]
        },
        {
          "output_type": "stream",
          "name": "stdout",
          "text": [
            "Extracting data/MNIST/raw/train-labels-idx1-ubyte.gz to data/MNIST/raw\n",
            "\n",
            "Downloading http://yann.lecun.com/exdb/mnist/t10k-images-idx3-ubyte.gz\n",
            "Failed to download (trying next):\n",
            "<urlopen error [SSL: CERTIFICATE_VERIFY_FAILED] certificate verify failed: certificate has expired (_ssl.c:1007)>\n",
            "\n",
            "Downloading https://ossci-datasets.s3.amazonaws.com/mnist/t10k-images-idx3-ubyte.gz\n",
            "Downloading https://ossci-datasets.s3.amazonaws.com/mnist/t10k-images-idx3-ubyte.gz to data/MNIST/raw/t10k-images-idx3-ubyte.gz\n"
          ]
        },
        {
          "output_type": "stream",
          "name": "stderr",
          "text": [
            "100%|██████████| 1.65M/1.65M [00:00<00:00, 4.49MB/s]\n"
          ]
        },
        {
          "output_type": "stream",
          "name": "stdout",
          "text": [
            "Extracting data/MNIST/raw/t10k-images-idx3-ubyte.gz to data/MNIST/raw\n",
            "\n",
            "Downloading http://yann.lecun.com/exdb/mnist/t10k-labels-idx1-ubyte.gz\n",
            "Failed to download (trying next):\n",
            "<urlopen error [SSL: CERTIFICATE_VERIFY_FAILED] certificate verify failed: certificate has expired (_ssl.c:1007)>\n",
            "\n",
            "Downloading https://ossci-datasets.s3.amazonaws.com/mnist/t10k-labels-idx1-ubyte.gz\n",
            "Downloading https://ossci-datasets.s3.amazonaws.com/mnist/t10k-labels-idx1-ubyte.gz to data/MNIST/raw/t10k-labels-idx1-ubyte.gz\n"
          ]
        },
        {
          "output_type": "stream",
          "name": "stderr",
          "text": [
            "100%|██████████| 4.54k/4.54k [00:00<00:00, 6.54MB/s]"
          ]
        },
        {
          "output_type": "stream",
          "name": "stdout",
          "text": [
            "Extracting data/MNIST/raw/t10k-labels-idx1-ubyte.gz to data/MNIST/raw\n",
            "\n"
          ]
        },
        {
          "output_type": "stream",
          "name": "stderr",
          "text": [
            "\n"
          ]
        }
      ]
    },
    {
      "cell_type": "code",
      "source": [
        "train_data"
      ],
      "metadata": {
        "colab": {
          "base_uri": "https://localhost:8080/"
        },
        "id": "6ipNZxoIu3LA",
        "outputId": "b6fbd9f0-780f-4811-d1c9-ba7e4a2cb60c"
      },
      "execution_count": 5,
      "outputs": [
        {
          "output_type": "execute_result",
          "data": {
            "text/plain": [
              "Dataset MNIST\n",
              "    Number of datapoints: 60000\n",
              "    Root location: data\n",
              "    Split: Train\n",
              "    StandardTransform\n",
              "Transform: ToTensor()"
            ]
          },
          "metadata": {},
          "execution_count": 5
        }
      ]
    },
    {
      "cell_type": "code",
      "source": [
        "test_data"
      ],
      "metadata": {
        "colab": {
          "base_uri": "https://localhost:8080/"
        },
        "id": "8CJ9hWH0u63x",
        "outputId": "fba7533b-701e-44d2-cefb-3e568960a2e2"
      },
      "execution_count": 6,
      "outputs": [
        {
          "output_type": "execute_result",
          "data": {
            "text/plain": [
              "Dataset MNIST\n",
              "    Number of datapoints: 10000\n",
              "    Root location: data\n",
              "    Split: Test\n",
              "    StandardTransform\n",
              "Transform: ToTensor()"
            ]
          },
          "metadata": {},
          "execution_count": 6
        }
      ]
    },
    {
      "cell_type": "code",
      "source": [
        "train_data.data.shape"
      ],
      "metadata": {
        "colab": {
          "base_uri": "https://localhost:8080/"
        },
        "id": "7UJqok-6u77T",
        "outputId": "80c4a176-a3b1-4fd1-815e-a2644c035c4b"
      },
      "execution_count": 7,
      "outputs": [
        {
          "output_type": "execute_result",
          "data": {
            "text/plain": [
              "torch.Size([60000, 28, 28])"
            ]
          },
          "metadata": {},
          "execution_count": 7
        }
      ]
    },
    {
      "cell_type": "code",
      "source": [
        "test_data.data.shape"
      ],
      "metadata": {
        "colab": {
          "base_uri": "https://localhost:8080/"
        },
        "id": "5VJ6lpqmvLGI",
        "outputId": "36c5e778-3068-411a-e067-6d91f28e9071"
      },
      "execution_count": 8,
      "outputs": [
        {
          "output_type": "execute_result",
          "data": {
            "text/plain": [
              "torch.Size([10000, 28, 28])"
            ]
          },
          "metadata": {},
          "execution_count": 8
        }
      ]
    },
    {
      "cell_type": "code",
      "source": [
        "train_data.targets.size()"
      ],
      "metadata": {
        "colab": {
          "base_uri": "https://localhost:8080/"
        },
        "id": "--5yZGwivSK9",
        "outputId": "384d7e36-fb65-4d54-a9a0-38089f6b7422"
      },
      "execution_count": 9,
      "outputs": [
        {
          "output_type": "execute_result",
          "data": {
            "text/plain": [
              "torch.Size([60000])"
            ]
          },
          "metadata": {},
          "execution_count": 9
        }
      ]
    },
    {
      "cell_type": "code",
      "source": [
        "train_data.targets"
      ],
      "metadata": {
        "colab": {
          "base_uri": "https://localhost:8080/"
        },
        "id": "oRjog7QXviAg",
        "outputId": "db661d0b-8628-4f1a-ea4e-f4ab603da384"
      },
      "execution_count": 10,
      "outputs": [
        {
          "output_type": "execute_result",
          "data": {
            "text/plain": [
              "tensor([5, 0, 4,  ..., 5, 6, 8])"
            ]
          },
          "metadata": {},
          "execution_count": 10
        }
      ]
    },
    {
      "cell_type": "code",
      "source": [
        "from torch.utils.data import DataLoader\n",
        "loaders={\n",
        "    'train':DataLoader(train_data,batch_size=100,shuffle=True,num_workers=1),\n",
        "    'test':DataLoader(test_data,batch_size=100,shuffle=True,num_workers=1)\n",
        "}"
      ],
      "metadata": {
        "id": "LVXGD8ahvneq"
      },
      "execution_count": 11,
      "outputs": []
    },
    {
      "cell_type": "code",
      "source": [
        "loaders"
      ],
      "metadata": {
        "colab": {
          "base_uri": "https://localhost:8080/"
        },
        "id": "cf2t3u-HwA4l",
        "outputId": "daca54d4-a0e2-41bf-fd49-d7dd275b47c3"
      },
      "execution_count": 12,
      "outputs": [
        {
          "output_type": "execute_result",
          "data": {
            "text/plain": [
              "{'train': <torch.utils.data.dataloader.DataLoader at 0x7f11a49ac1f0>,\n",
              " 'test': <torch.utils.data.dataloader.DataLoader at 0x7f11a49addb0>}"
            ]
          },
          "metadata": {},
          "execution_count": 12
        }
      ]
    },
    {
      "cell_type": "code",
      "source": [
        "import torch.nn as nn\n",
        "import torch.nn.functional as F\n",
        "import torch.optim as optim\n",
        "\n",
        "class CNN(nn.Module):\n",
        "    def __init__(self):\n",
        "        super(CNN,self).__init__()\n",
        "\n",
        "        self.conv1=nn.Conv2d(in_channels=1,out_channels=10,kernel_size=5)\n",
        "        self.conv2=nn.Conv2d(in_channels=10,out_channels=20,kernel_size=5)\n",
        "        self.conv2_drop=nn.Dropout2d()\n",
        "        self.fc1=nn.Linear(in_features=320,out_features=50)\n",
        "        self.fc2=nn.Linear(in_features=50,out_features=10)\n",
        "\n",
        "    def forward(self,x):\n",
        "        x=F.relu(F.max_pool2d(self.conv1(x),2))\n",
        "        x=F.relu(F.max_pool2d(self.conv2_drop(self.conv2(x)),2))\n",
        "        x=x.view(-1,320)\n",
        "        x=F.relu(self.fc1(x))\n",
        "        x=F.dropout(x,training=self.training)\n",
        "        x=self.fc2(x)\n",
        "\n",
        "        return F.softmax(x)"
      ],
      "metadata": {
        "id": "iM9-hGnGwBq5"
      },
      "execution_count": 14,
      "outputs": []
    },
    {
      "cell_type": "code",
      "source": [
        "import torch\n",
        "\n",
        "device=torch.device(\"cuda\" if torch.cuda.is_available() else \"cpu\")\n",
        "\n",
        "model=CNN().to(device)\n",
        "optimizer=optim.Adam(model.parameters(),lr=0.001)\n",
        "error=nn.CrossEntropyLoss()\n",
        "\n",
        "def train(epoch):\n",
        "  model.train()\n",
        "  for batch_idx,(data,target) in enumerate(loaders['train']):\n",
        "    data,target=data.to(device),target.to(device)\n",
        "    optimizer.zero_grad()\n",
        "    output=model(data)\n",
        "    loss=error(output,target)\n",
        "    loss.backward()\n",
        "    optimizer.step()\n",
        "    if batch_idx%20==0:\n",
        "      print(f'Train Epoch: {epoch} [{batch_idx*len(data)}/{len(loaders[\"train\"].dataset)} ({100.*batch_idx/len(loaders[\"train\"]):.0f}%)]\\tLoss: {loss.item():.6f}')\n",
        "\n",
        "def test():\n",
        "  model.eval()\n",
        "  test_loss=0\n",
        "  correct=0\n",
        "  with torch.no_grad():\n",
        "    for data,target in loaders['test']:\n",
        "      data,target=data.to(device),target.to(device)\n",
        "      output=model(data)\n",
        "      test_loss+=error(output,target).item()\n",
        "      pred=output.argmax(1,keepdim=True)\n",
        "      correct+=pred.eq(target.data.view_as(pred)).sum().item()\n",
        "  test_loss/=len(loaders['test'].dataset)\n",
        "  print(f'\\nTest set: Average loss: {test_loss:.4f}, Accuracy: {correct}/{len(loaders[\"test\"].dataset)} ({100.*correct/len(loaders[\"test\"].dataset):.0f}%)\\n')"
      ],
      "metadata": {
        "id": "MrD4oSwWx-tp"
      },
      "execution_count": 15,
      "outputs": []
    },
    {
      "cell_type": "code",
      "source": [
        "for epoch in range(1,11):\n",
        "  train(epoch)\n",
        "  test()"
      ],
      "metadata": {
        "colab": {
          "base_uri": "https://localhost:8080/"
        },
        "id": "WNpbC7qRzX8c",
        "outputId": "43312151-a2e0-4c00-e830-060fc34d8fef"
      },
      "execution_count": 16,
      "outputs": [
        {
          "output_type": "stream",
          "name": "stderr",
          "text": [
            "<ipython-input-14-92205ebd77b3>:23: UserWarning: Implicit dimension choice for softmax has been deprecated. Change the call to include dim=X as an argument.\n",
            "  return F.softmax(x)\n"
          ]
        },
        {
          "output_type": "stream",
          "name": "stdout",
          "text": [
            "Train Epoch: 1 [0/60000 (0%)]\tLoss: 2.302855\n",
            "Train Epoch: 1 [2000/60000 (3%)]\tLoss: 2.291934\n",
            "Train Epoch: 1 [4000/60000 (7%)]\tLoss: 2.221142\n",
            "Train Epoch: 1 [6000/60000 (10%)]\tLoss: 2.044143\n",
            "Train Epoch: 1 [8000/60000 (13%)]\tLoss: 1.920740\n",
            "Train Epoch: 1 [10000/60000 (17%)]\tLoss: 1.917484\n",
            "Train Epoch: 1 [12000/60000 (20%)]\tLoss: 1.809051\n",
            "Train Epoch: 1 [14000/60000 (23%)]\tLoss: 1.797616\n",
            "Train Epoch: 1 [16000/60000 (27%)]\tLoss: 1.820910\n",
            "Train Epoch: 1 [18000/60000 (30%)]\tLoss: 1.709488\n",
            "Train Epoch: 1 [20000/60000 (33%)]\tLoss: 1.647541\n",
            "Train Epoch: 1 [22000/60000 (37%)]\tLoss: 1.724695\n",
            "Train Epoch: 1 [24000/60000 (40%)]\tLoss: 1.661735\n",
            "Train Epoch: 1 [26000/60000 (43%)]\tLoss: 1.653755\n",
            "Train Epoch: 1 [28000/60000 (47%)]\tLoss: 1.710718\n",
            "Train Epoch: 1 [30000/60000 (50%)]\tLoss: 1.636575\n",
            "Train Epoch: 1 [32000/60000 (53%)]\tLoss: 1.613328\n",
            "Train Epoch: 1 [34000/60000 (57%)]\tLoss: 1.724117\n",
            "Train Epoch: 1 [36000/60000 (60%)]\tLoss: 1.604644\n",
            "Train Epoch: 1 [38000/60000 (63%)]\tLoss: 1.653415\n",
            "Train Epoch: 1 [40000/60000 (67%)]\tLoss: 1.580922\n",
            "Train Epoch: 1 [42000/60000 (70%)]\tLoss: 1.660946\n",
            "Train Epoch: 1 [44000/60000 (73%)]\tLoss: 1.649476\n",
            "Train Epoch: 1 [46000/60000 (77%)]\tLoss: 1.586560\n",
            "Train Epoch: 1 [48000/60000 (80%)]\tLoss: 1.641992\n",
            "Train Epoch: 1 [50000/60000 (83%)]\tLoss: 1.619971\n",
            "Train Epoch: 1 [52000/60000 (87%)]\tLoss: 1.579573\n",
            "Train Epoch: 1 [54000/60000 (90%)]\tLoss: 1.558119\n",
            "Train Epoch: 1 [56000/60000 (93%)]\tLoss: 1.657122\n",
            "Train Epoch: 1 [58000/60000 (97%)]\tLoss: 1.588677\n",
            "\n",
            "Test set: Average loss: 0.0153, Accuracy: 9306/10000 (93%)\n",
            "\n",
            "Train Epoch: 2 [0/60000 (0%)]\tLoss: 1.622045\n",
            "Train Epoch: 2 [2000/60000 (3%)]\tLoss: 1.614293\n",
            "Train Epoch: 2 [4000/60000 (7%)]\tLoss: 1.662692\n",
            "Train Epoch: 2 [6000/60000 (10%)]\tLoss: 1.576090\n",
            "Train Epoch: 2 [8000/60000 (13%)]\tLoss: 1.573697\n",
            "Train Epoch: 2 [10000/60000 (17%)]\tLoss: 1.571470\n",
            "Train Epoch: 2 [12000/60000 (20%)]\tLoss: 1.580556\n",
            "Train Epoch: 2 [14000/60000 (23%)]\tLoss: 1.638505\n",
            "Train Epoch: 2 [16000/60000 (27%)]\tLoss: 1.596673\n",
            "Train Epoch: 2 [18000/60000 (30%)]\tLoss: 1.601629\n",
            "Train Epoch: 2 [20000/60000 (33%)]\tLoss: 1.596032\n",
            "Train Epoch: 2 [22000/60000 (37%)]\tLoss: 1.563740\n",
            "Train Epoch: 2 [24000/60000 (40%)]\tLoss: 1.589025\n",
            "Train Epoch: 2 [26000/60000 (43%)]\tLoss: 1.571860\n",
            "Train Epoch: 2 [28000/60000 (47%)]\tLoss: 1.596984\n",
            "Train Epoch: 2 [30000/60000 (50%)]\tLoss: 1.675421\n",
            "Train Epoch: 2 [32000/60000 (53%)]\tLoss: 1.559730\n",
            "Train Epoch: 2 [34000/60000 (57%)]\tLoss: 1.583059\n",
            "Train Epoch: 2 [36000/60000 (60%)]\tLoss: 1.591908\n",
            "Train Epoch: 2 [38000/60000 (63%)]\tLoss: 1.554509\n",
            "Train Epoch: 2 [40000/60000 (67%)]\tLoss: 1.606162\n",
            "Train Epoch: 2 [42000/60000 (70%)]\tLoss: 1.543033\n",
            "Train Epoch: 2 [44000/60000 (73%)]\tLoss: 1.562956\n",
            "Train Epoch: 2 [46000/60000 (77%)]\tLoss: 1.572522\n",
            "Train Epoch: 2 [48000/60000 (80%)]\tLoss: 1.606956\n",
            "Train Epoch: 2 [50000/60000 (83%)]\tLoss: 1.595158\n",
            "Train Epoch: 2 [52000/60000 (87%)]\tLoss: 1.586411\n",
            "Train Epoch: 2 [54000/60000 (90%)]\tLoss: 1.565208\n",
            "Train Epoch: 2 [56000/60000 (93%)]\tLoss: 1.534782\n",
            "Train Epoch: 2 [58000/60000 (97%)]\tLoss: 1.579605\n",
            "\n",
            "Test set: Average loss: 0.0151, Accuracy: 9542/10000 (95%)\n",
            "\n",
            "Train Epoch: 3 [0/60000 (0%)]\tLoss: 1.600081\n",
            "Train Epoch: 3 [2000/60000 (3%)]\tLoss: 1.531150\n",
            "Train Epoch: 3 [4000/60000 (7%)]\tLoss: 1.580739\n",
            "Train Epoch: 3 [6000/60000 (10%)]\tLoss: 1.534963\n",
            "Train Epoch: 3 [8000/60000 (13%)]\tLoss: 1.570921\n",
            "Train Epoch: 3 [10000/60000 (17%)]\tLoss: 1.558663\n",
            "Train Epoch: 3 [12000/60000 (20%)]\tLoss: 1.588713\n",
            "Train Epoch: 3 [14000/60000 (23%)]\tLoss: 1.572810\n",
            "Train Epoch: 3 [16000/60000 (27%)]\tLoss: 1.532748\n",
            "Train Epoch: 3 [18000/60000 (30%)]\tLoss: 1.545317\n",
            "Train Epoch: 3 [20000/60000 (33%)]\tLoss: 1.608818\n",
            "Train Epoch: 3 [22000/60000 (37%)]\tLoss: 1.549691\n",
            "Train Epoch: 3 [24000/60000 (40%)]\tLoss: 1.567653\n",
            "Train Epoch: 3 [26000/60000 (43%)]\tLoss: 1.568080\n",
            "Train Epoch: 3 [28000/60000 (47%)]\tLoss: 1.528175\n",
            "Train Epoch: 3 [30000/60000 (50%)]\tLoss: 1.531877\n",
            "Train Epoch: 3 [32000/60000 (53%)]\tLoss: 1.527741\n",
            "Train Epoch: 3 [34000/60000 (57%)]\tLoss: 1.606340\n",
            "Train Epoch: 3 [36000/60000 (60%)]\tLoss: 1.552449\n",
            "Train Epoch: 3 [38000/60000 (63%)]\tLoss: 1.575078\n",
            "Train Epoch: 3 [40000/60000 (67%)]\tLoss: 1.543247\n",
            "Train Epoch: 3 [42000/60000 (70%)]\tLoss: 1.544769\n",
            "Train Epoch: 3 [44000/60000 (73%)]\tLoss: 1.539679\n",
            "Train Epoch: 3 [46000/60000 (77%)]\tLoss: 1.520716\n",
            "Train Epoch: 3 [48000/60000 (80%)]\tLoss: 1.582599\n",
            "Train Epoch: 3 [50000/60000 (83%)]\tLoss: 1.485060\n",
            "Train Epoch: 3 [52000/60000 (87%)]\tLoss: 1.590045\n",
            "Train Epoch: 3 [54000/60000 (90%)]\tLoss: 1.553376\n",
            "Train Epoch: 3 [56000/60000 (93%)]\tLoss: 1.596652\n",
            "Train Epoch: 3 [58000/60000 (97%)]\tLoss: 1.541361\n",
            "\n",
            "Test set: Average loss: 0.0150, Accuracy: 9602/10000 (96%)\n",
            "\n",
            "Train Epoch: 4 [0/60000 (0%)]\tLoss: 1.578631\n",
            "Train Epoch: 4 [2000/60000 (3%)]\tLoss: 1.577380\n",
            "Train Epoch: 4 [4000/60000 (7%)]\tLoss: 1.593622\n",
            "Train Epoch: 4 [6000/60000 (10%)]\tLoss: 1.536559\n",
            "Train Epoch: 4 [8000/60000 (13%)]\tLoss: 1.559854\n",
            "Train Epoch: 4 [10000/60000 (17%)]\tLoss: 1.520460\n",
            "Train Epoch: 4 [12000/60000 (20%)]\tLoss: 1.550595\n",
            "Train Epoch: 4 [14000/60000 (23%)]\tLoss: 1.544946\n",
            "Train Epoch: 4 [16000/60000 (27%)]\tLoss: 1.606698\n",
            "Train Epoch: 4 [18000/60000 (30%)]\tLoss: 1.530487\n",
            "Train Epoch: 4 [20000/60000 (33%)]\tLoss: 1.556601\n",
            "Train Epoch: 4 [22000/60000 (37%)]\tLoss: 1.499315\n",
            "Train Epoch: 4 [24000/60000 (40%)]\tLoss: 1.585098\n",
            "Train Epoch: 4 [26000/60000 (43%)]\tLoss: 1.567369\n",
            "Train Epoch: 4 [28000/60000 (47%)]\tLoss: 1.529845\n",
            "Train Epoch: 4 [30000/60000 (50%)]\tLoss: 1.539416\n",
            "Train Epoch: 4 [32000/60000 (53%)]\tLoss: 1.539028\n",
            "Train Epoch: 4 [34000/60000 (57%)]\tLoss: 1.546693\n",
            "Train Epoch: 4 [36000/60000 (60%)]\tLoss: 1.567375\n",
            "Train Epoch: 4 [38000/60000 (63%)]\tLoss: 1.527600\n",
            "Train Epoch: 4 [40000/60000 (67%)]\tLoss: 1.567439\n",
            "Train Epoch: 4 [42000/60000 (70%)]\tLoss: 1.523236\n",
            "Train Epoch: 4 [44000/60000 (73%)]\tLoss: 1.501135\n",
            "Train Epoch: 4 [46000/60000 (77%)]\tLoss: 1.555571\n",
            "Train Epoch: 4 [48000/60000 (80%)]\tLoss: 1.566683\n",
            "Train Epoch: 4 [50000/60000 (83%)]\tLoss: 1.545504\n",
            "Train Epoch: 4 [52000/60000 (87%)]\tLoss: 1.548123\n",
            "Train Epoch: 4 [54000/60000 (90%)]\tLoss: 1.511638\n",
            "Train Epoch: 4 [56000/60000 (93%)]\tLoss: 1.557463\n",
            "Train Epoch: 4 [58000/60000 (97%)]\tLoss: 1.607041\n",
            "\n",
            "Test set: Average loss: 0.0149, Accuracy: 9674/10000 (97%)\n",
            "\n",
            "Train Epoch: 5 [0/60000 (0%)]\tLoss: 1.515062\n",
            "Train Epoch: 5 [2000/60000 (3%)]\tLoss: 1.537124\n",
            "Train Epoch: 5 [4000/60000 (7%)]\tLoss: 1.514690\n",
            "Train Epoch: 5 [6000/60000 (10%)]\tLoss: 1.538406\n",
            "Train Epoch: 5 [8000/60000 (13%)]\tLoss: 1.543020\n",
            "Train Epoch: 5 [10000/60000 (17%)]\tLoss: 1.564016\n",
            "Train Epoch: 5 [12000/60000 (20%)]\tLoss: 1.548667\n",
            "Train Epoch: 5 [14000/60000 (23%)]\tLoss: 1.580661\n",
            "Train Epoch: 5 [16000/60000 (27%)]\tLoss: 1.507255\n",
            "Train Epoch: 5 [18000/60000 (30%)]\tLoss: 1.563809\n",
            "Train Epoch: 5 [20000/60000 (33%)]\tLoss: 1.583326\n",
            "Train Epoch: 5 [22000/60000 (37%)]\tLoss: 1.573324\n",
            "Train Epoch: 5 [24000/60000 (40%)]\tLoss: 1.540711\n",
            "Train Epoch: 5 [26000/60000 (43%)]\tLoss: 1.515302\n",
            "Train Epoch: 5 [28000/60000 (47%)]\tLoss: 1.572528\n",
            "Train Epoch: 5 [30000/60000 (50%)]\tLoss: 1.517621\n",
            "Train Epoch: 5 [32000/60000 (53%)]\tLoss: 1.567010\n",
            "Train Epoch: 5 [34000/60000 (57%)]\tLoss: 1.589461\n",
            "Train Epoch: 5 [36000/60000 (60%)]\tLoss: 1.565937\n",
            "Train Epoch: 5 [38000/60000 (63%)]\tLoss: 1.526879\n",
            "Train Epoch: 5 [40000/60000 (67%)]\tLoss: 1.563559\n",
            "Train Epoch: 5 [42000/60000 (70%)]\tLoss: 1.550068\n",
            "Train Epoch: 5 [44000/60000 (73%)]\tLoss: 1.552526\n",
            "Train Epoch: 5 [46000/60000 (77%)]\tLoss: 1.557217\n",
            "Train Epoch: 5 [48000/60000 (80%)]\tLoss: 1.589909\n",
            "Train Epoch: 5 [50000/60000 (83%)]\tLoss: 1.512339\n",
            "Train Epoch: 5 [52000/60000 (87%)]\tLoss: 1.530774\n",
            "Train Epoch: 5 [54000/60000 (90%)]\tLoss: 1.522434\n",
            "Train Epoch: 5 [56000/60000 (93%)]\tLoss: 1.543247\n",
            "Train Epoch: 5 [58000/60000 (97%)]\tLoss: 1.517666\n",
            "\n",
            "Test set: Average loss: 0.0149, Accuracy: 9709/10000 (97%)\n",
            "\n",
            "Train Epoch: 6 [0/60000 (0%)]\tLoss: 1.547116\n",
            "Train Epoch: 6 [2000/60000 (3%)]\tLoss: 1.524468\n",
            "Train Epoch: 6 [4000/60000 (7%)]\tLoss: 1.567706\n",
            "Train Epoch: 6 [6000/60000 (10%)]\tLoss: 1.556696\n",
            "Train Epoch: 6 [8000/60000 (13%)]\tLoss: 1.523680\n",
            "Train Epoch: 6 [10000/60000 (17%)]\tLoss: 1.527766\n",
            "Train Epoch: 6 [12000/60000 (20%)]\tLoss: 1.555571\n",
            "Train Epoch: 6 [14000/60000 (23%)]\tLoss: 1.536073\n",
            "Train Epoch: 6 [16000/60000 (27%)]\tLoss: 1.540578\n",
            "Train Epoch: 6 [18000/60000 (30%)]\tLoss: 1.527383\n",
            "Train Epoch: 6 [20000/60000 (33%)]\tLoss: 1.574009\n",
            "Train Epoch: 6 [22000/60000 (37%)]\tLoss: 1.555897\n",
            "Train Epoch: 6 [24000/60000 (40%)]\tLoss: 1.473435\n",
            "Train Epoch: 6 [26000/60000 (43%)]\tLoss: 1.532852\n",
            "Train Epoch: 6 [28000/60000 (47%)]\tLoss: 1.507634\n",
            "Train Epoch: 6 [30000/60000 (50%)]\tLoss: 1.513682\n",
            "Train Epoch: 6 [32000/60000 (53%)]\tLoss: 1.549852\n",
            "Train Epoch: 6 [34000/60000 (57%)]\tLoss: 1.542702\n",
            "Train Epoch: 6 [36000/60000 (60%)]\tLoss: 1.540663\n",
            "Train Epoch: 6 [38000/60000 (63%)]\tLoss: 1.520173\n",
            "Train Epoch: 6 [40000/60000 (67%)]\tLoss: 1.554338\n",
            "Train Epoch: 6 [42000/60000 (70%)]\tLoss: 1.518052\n",
            "Train Epoch: 6 [44000/60000 (73%)]\tLoss: 1.550866\n",
            "Train Epoch: 6 [46000/60000 (77%)]\tLoss: 1.555768\n",
            "Train Epoch: 6 [48000/60000 (80%)]\tLoss: 1.538969\n",
            "Train Epoch: 6 [50000/60000 (83%)]\tLoss: 1.532691\n",
            "Train Epoch: 6 [52000/60000 (87%)]\tLoss: 1.535872\n",
            "Train Epoch: 6 [54000/60000 (90%)]\tLoss: 1.562951\n",
            "Train Epoch: 6 [56000/60000 (93%)]\tLoss: 1.527126\n",
            "Train Epoch: 6 [58000/60000 (97%)]\tLoss: 1.525373\n",
            "\n",
            "Test set: Average loss: 0.0149, Accuracy: 9713/10000 (97%)\n",
            "\n",
            "Train Epoch: 7 [0/60000 (0%)]\tLoss: 1.520257\n",
            "Train Epoch: 7 [2000/60000 (3%)]\tLoss: 1.501182\n",
            "Train Epoch: 7 [4000/60000 (7%)]\tLoss: 1.566583\n",
            "Train Epoch: 7 [6000/60000 (10%)]\tLoss: 1.569210\n",
            "Train Epoch: 7 [8000/60000 (13%)]\tLoss: 1.510776\n",
            "Train Epoch: 7 [10000/60000 (17%)]\tLoss: 1.554423\n",
            "Train Epoch: 7 [12000/60000 (20%)]\tLoss: 1.542347\n",
            "Train Epoch: 7 [14000/60000 (23%)]\tLoss: 1.509126\n",
            "Train Epoch: 7 [16000/60000 (27%)]\tLoss: 1.484357\n",
            "Train Epoch: 7 [18000/60000 (30%)]\tLoss: 1.504803\n",
            "Train Epoch: 7 [20000/60000 (33%)]\tLoss: 1.595240\n",
            "Train Epoch: 7 [22000/60000 (37%)]\tLoss: 1.527089\n",
            "Train Epoch: 7 [24000/60000 (40%)]\tLoss: 1.498866\n",
            "Train Epoch: 7 [26000/60000 (43%)]\tLoss: 1.498793\n",
            "Train Epoch: 7 [28000/60000 (47%)]\tLoss: 1.522340\n",
            "Train Epoch: 7 [30000/60000 (50%)]\tLoss: 1.567933\n",
            "Train Epoch: 7 [32000/60000 (53%)]\tLoss: 1.561489\n",
            "Train Epoch: 7 [34000/60000 (57%)]\tLoss: 1.533590\n",
            "Train Epoch: 7 [36000/60000 (60%)]\tLoss: 1.573785\n",
            "Train Epoch: 7 [38000/60000 (63%)]\tLoss: 1.507163\n",
            "Train Epoch: 7 [40000/60000 (67%)]\tLoss: 1.540428\n",
            "Train Epoch: 7 [42000/60000 (70%)]\tLoss: 1.526913\n",
            "Train Epoch: 7 [44000/60000 (73%)]\tLoss: 1.578645\n",
            "Train Epoch: 7 [46000/60000 (77%)]\tLoss: 1.556820\n",
            "Train Epoch: 7 [48000/60000 (80%)]\tLoss: 1.598470\n",
            "Train Epoch: 7 [50000/60000 (83%)]\tLoss: 1.531220\n",
            "Train Epoch: 7 [52000/60000 (87%)]\tLoss: 1.523353\n",
            "Train Epoch: 7 [54000/60000 (90%)]\tLoss: 1.493511\n",
            "Train Epoch: 7 [56000/60000 (93%)]\tLoss: 1.524804\n",
            "Train Epoch: 7 [58000/60000 (97%)]\tLoss: 1.574408\n",
            "\n",
            "Test set: Average loss: 0.0149, Accuracy: 9739/10000 (97%)\n",
            "\n",
            "Train Epoch: 8 [0/60000 (0%)]\tLoss: 1.519137\n",
            "Train Epoch: 8 [2000/60000 (3%)]\tLoss: 1.546579\n",
            "Train Epoch: 8 [4000/60000 (7%)]\tLoss: 1.545377\n",
            "Train Epoch: 8 [6000/60000 (10%)]\tLoss: 1.518411\n",
            "Train Epoch: 8 [8000/60000 (13%)]\tLoss: 1.542728\n",
            "Train Epoch: 8 [10000/60000 (17%)]\tLoss: 1.511256\n",
            "Train Epoch: 8 [12000/60000 (20%)]\tLoss: 1.491703\n",
            "Train Epoch: 8 [14000/60000 (23%)]\tLoss: 1.495384\n",
            "Train Epoch: 8 [16000/60000 (27%)]\tLoss: 1.519223\n",
            "Train Epoch: 8 [18000/60000 (30%)]\tLoss: 1.518316\n",
            "Train Epoch: 8 [20000/60000 (33%)]\tLoss: 1.557544\n",
            "Train Epoch: 8 [22000/60000 (37%)]\tLoss: 1.476155\n",
            "Train Epoch: 8 [24000/60000 (40%)]\tLoss: 1.531186\n",
            "Train Epoch: 8 [26000/60000 (43%)]\tLoss: 1.534045\n",
            "Train Epoch: 8 [28000/60000 (47%)]\tLoss: 1.499571\n",
            "Train Epoch: 8 [30000/60000 (50%)]\tLoss: 1.552840\n",
            "Train Epoch: 8 [32000/60000 (53%)]\tLoss: 1.522862\n",
            "Train Epoch: 8 [34000/60000 (57%)]\tLoss: 1.519417\n",
            "Train Epoch: 8 [36000/60000 (60%)]\tLoss: 1.506477\n",
            "Train Epoch: 8 [38000/60000 (63%)]\tLoss: 1.556661\n",
            "Train Epoch: 8 [40000/60000 (67%)]\tLoss: 1.551763\n",
            "Train Epoch: 8 [42000/60000 (70%)]\tLoss: 1.502990\n",
            "Train Epoch: 8 [44000/60000 (73%)]\tLoss: 1.509773\n",
            "Train Epoch: 8 [46000/60000 (77%)]\tLoss: 1.524187\n",
            "Train Epoch: 8 [48000/60000 (80%)]\tLoss: 1.543475\n",
            "Train Epoch: 8 [50000/60000 (83%)]\tLoss: 1.571292\n",
            "Train Epoch: 8 [52000/60000 (87%)]\tLoss: 1.552118\n",
            "Train Epoch: 8 [54000/60000 (90%)]\tLoss: 1.527567\n",
            "Train Epoch: 8 [56000/60000 (93%)]\tLoss: 1.509204\n",
            "Train Epoch: 8 [58000/60000 (97%)]\tLoss: 1.525020\n",
            "\n",
            "Test set: Average loss: 0.0149, Accuracy: 9744/10000 (97%)\n",
            "\n",
            "Train Epoch: 9 [0/60000 (0%)]\tLoss: 1.545387\n",
            "Train Epoch: 9 [2000/60000 (3%)]\tLoss: 1.530374\n",
            "Train Epoch: 9 [4000/60000 (7%)]\tLoss: 1.513628\n",
            "Train Epoch: 9 [6000/60000 (10%)]\tLoss: 1.501528\n",
            "Train Epoch: 9 [8000/60000 (13%)]\tLoss: 1.510829\n",
            "Train Epoch: 9 [10000/60000 (17%)]\tLoss: 1.532209\n",
            "Train Epoch: 9 [12000/60000 (20%)]\tLoss: 1.550321\n",
            "Train Epoch: 9 [14000/60000 (23%)]\tLoss: 1.529857\n",
            "Train Epoch: 9 [16000/60000 (27%)]\tLoss: 1.547024\n",
            "Train Epoch: 9 [18000/60000 (30%)]\tLoss: 1.519505\n",
            "Train Epoch: 9 [20000/60000 (33%)]\tLoss: 1.503864\n",
            "Train Epoch: 9 [22000/60000 (37%)]\tLoss: 1.509382\n",
            "Train Epoch: 9 [24000/60000 (40%)]\tLoss: 1.548941\n",
            "Train Epoch: 9 [26000/60000 (43%)]\tLoss: 1.502965\n",
            "Train Epoch: 9 [28000/60000 (47%)]\tLoss: 1.608604\n",
            "Train Epoch: 9 [30000/60000 (50%)]\tLoss: 1.512739\n",
            "Train Epoch: 9 [32000/60000 (53%)]\tLoss: 1.500612\n",
            "Train Epoch: 9 [34000/60000 (57%)]\tLoss: 1.501700\n",
            "Train Epoch: 9 [36000/60000 (60%)]\tLoss: 1.508152\n",
            "Train Epoch: 9 [38000/60000 (63%)]\tLoss: 1.513965\n",
            "Train Epoch: 9 [40000/60000 (67%)]\tLoss: 1.519679\n",
            "Train Epoch: 9 [42000/60000 (70%)]\tLoss: 1.534818\n",
            "Train Epoch: 9 [44000/60000 (73%)]\tLoss: 1.532850\n",
            "Train Epoch: 9 [46000/60000 (77%)]\tLoss: 1.505576\n",
            "Train Epoch: 9 [48000/60000 (80%)]\tLoss: 1.550694\n",
            "Train Epoch: 9 [50000/60000 (83%)]\tLoss: 1.549937\n",
            "Train Epoch: 9 [52000/60000 (87%)]\tLoss: 1.518817\n",
            "Train Epoch: 9 [54000/60000 (90%)]\tLoss: 1.502861\n",
            "Train Epoch: 9 [56000/60000 (93%)]\tLoss: 1.526449\n",
            "Train Epoch: 9 [58000/60000 (97%)]\tLoss: 1.549197\n",
            "\n",
            "Test set: Average loss: 0.0149, Accuracy: 9737/10000 (97%)\n",
            "\n",
            "Train Epoch: 10 [0/60000 (0%)]\tLoss: 1.508092\n",
            "Train Epoch: 10 [2000/60000 (3%)]\tLoss: 1.544946\n",
            "Train Epoch: 10 [4000/60000 (7%)]\tLoss: 1.539368\n",
            "Train Epoch: 10 [6000/60000 (10%)]\tLoss: 1.528759\n",
            "Train Epoch: 10 [8000/60000 (13%)]\tLoss: 1.523312\n",
            "Train Epoch: 10 [10000/60000 (17%)]\tLoss: 1.515445\n",
            "Train Epoch: 10 [12000/60000 (20%)]\tLoss: 1.498740\n",
            "Train Epoch: 10 [14000/60000 (23%)]\tLoss: 1.494156\n",
            "Train Epoch: 10 [16000/60000 (27%)]\tLoss: 1.547217\n",
            "Train Epoch: 10 [18000/60000 (30%)]\tLoss: 1.518295\n",
            "Train Epoch: 10 [20000/60000 (33%)]\tLoss: 1.541167\n",
            "Train Epoch: 10 [22000/60000 (37%)]\tLoss: 1.515729\n",
            "Train Epoch: 10 [24000/60000 (40%)]\tLoss: 1.504804\n",
            "Train Epoch: 10 [26000/60000 (43%)]\tLoss: 1.561693\n",
            "Train Epoch: 10 [28000/60000 (47%)]\tLoss: 1.532790\n",
            "Train Epoch: 10 [30000/60000 (50%)]\tLoss: 1.481748\n",
            "Train Epoch: 10 [32000/60000 (53%)]\tLoss: 1.531596\n",
            "Train Epoch: 10 [34000/60000 (57%)]\tLoss: 1.522123\n",
            "Train Epoch: 10 [36000/60000 (60%)]\tLoss: 1.545426\n",
            "Train Epoch: 10 [38000/60000 (63%)]\tLoss: 1.541307\n",
            "Train Epoch: 10 [40000/60000 (67%)]\tLoss: 1.550072\n",
            "Train Epoch: 10 [42000/60000 (70%)]\tLoss: 1.535577\n",
            "Train Epoch: 10 [44000/60000 (73%)]\tLoss: 1.503287\n",
            "Train Epoch: 10 [46000/60000 (77%)]\tLoss: 1.518925\n",
            "Train Epoch: 10 [48000/60000 (80%)]\tLoss: 1.527493\n",
            "Train Epoch: 10 [50000/60000 (83%)]\tLoss: 1.504518\n",
            "Train Epoch: 10 [52000/60000 (87%)]\tLoss: 1.544815\n",
            "Train Epoch: 10 [54000/60000 (90%)]\tLoss: 1.495101\n",
            "Train Epoch: 10 [56000/60000 (93%)]\tLoss: 1.530590\n",
            "Train Epoch: 10 [58000/60000 (97%)]\tLoss: 1.542654\n",
            "\n",
            "Test set: Average loss: 0.0149, Accuracy: 9747/10000 (97%)\n",
            "\n"
          ]
        }
      ]
    },
    {
      "cell_type": "code",
      "source": [
        "device"
      ],
      "metadata": {
        "colab": {
          "base_uri": "https://localhost:8080/"
        },
        "id": "5BvwMQCe2EEf",
        "outputId": "2b66303f-fccc-4dab-9fa4-6b7261c1f66f"
      },
      "execution_count": 17,
      "outputs": [
        {
          "output_type": "execute_result",
          "data": {
            "text/plain": [
              "device(type='cpu')"
            ]
          },
          "metadata": {},
          "execution_count": 17
        }
      ]
    },
    {
      "cell_type": "code",
      "source": [
        "import matplotlib.pyplot as plt\n",
        "\n",
        "model.eval()\n",
        "data,target=test_data[3]\n",
        "data=data.unsqueeze(0).to(device)\n",
        "output=model(data)\n",
        "prediction=output.argmax(dim=1,keepdim=True).item()\n",
        "print(f'Prediction: {prediction}')\n",
        "image=data.squeeze(0).squeeze(0).cpu().detach().numpy()\n",
        "plt.imshow(image,cmap='gray')\n",
        "plt.show()"
      ],
      "metadata": {
        "colab": {
          "base_uri": "https://localhost:8080/",
          "height": 482
        },
        "id": "D_L9oWW12v8u",
        "outputId": "f6b003bd-00b8-45ff-b376-638b4f40d1cf"
      },
      "execution_count": 20,
      "outputs": [
        {
          "output_type": "stream",
          "name": "stderr",
          "text": [
            "<ipython-input-14-92205ebd77b3>:23: UserWarning: Implicit dimension choice for softmax has been deprecated. Change the call to include dim=X as an argument.\n",
            "  return F.softmax(x)\n"
          ]
        },
        {
          "output_type": "stream",
          "name": "stdout",
          "text": [
            "Prediction: 0\n"
          ]
        },
        {
          "output_type": "display_data",
          "data": {
            "text/plain": [
              "<Figure size 640x480 with 1 Axes>"
            ],
            "image/png": "[encoded data removed]"
          },
          "metadata": {}
        }
      ]
    }
  ]
}